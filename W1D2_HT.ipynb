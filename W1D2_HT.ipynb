{
  "nbformat": 4,
  "nbformat_minor": 0,
  "metadata": {
    "colab": {
      "provenance": []
    },
    "kernelspec": {
      "name": "python3",
      "display_name": "Python 3"
    },
    "language_info": {
      "name": "python"
    }
  },
  "cells": [
    {
      "cell_type": "markdown",
      "source": [
        "Task 1\n",
        "\n",
        "Write a Python program that takes a number as input and prints whether it's even or odd."
      ],
      "metadata": {
        "id": "7kpxXZxjlPH4"
      }
    },
    {
      "cell_type": "code",
      "execution_count": null,
      "metadata": {
        "colab": {
          "base_uri": "https://localhost:8080/"
        },
        "id": "LPp5JOPelMFq",
        "outputId": "21242cbb-7e31-42c1-98ee-20b3f2183bba"
      },
      "outputs": [
        {
          "output_type": "stream",
          "name": "stdout",
          "text": [
            "23\n",
            "Odd\n"
          ]
        }
      ],
      "source": [
        "num1 = int(input())\n",
        "if num1%2 == 0 :\n",
        "  print(\"Even\")\n",
        "else:\n",
        "  print(\"Odd\")\n"
      ]
    },
    {
      "cell_type": "markdown",
      "source": [
        "Task 2\n",
        "\n",
        "Write a Python program to calculate and categorize the Body Mass Index (BMI) based on a person's weight in kilograms and height in feet. The BMI is calculated using the following formula:\n",
        "\n",
        "BMI= weight/height**2 (weight divided by height square)\n",
        "\n",
        "Once you've calculated the BMI, categorize it into different categories as follows:\n",
        "\n",
        "If BMI is less than 18.5, categorize it as \"Underweight.\" If BMI is between 18.5 (inclusive) and 24.9 (exclusive), categorize it as \"Normal Weight.\" If BMI is between 25 (inclusive) and 29.9 (exclusive), categorize it as \"Overweight.\" If BMI is 30 or higher, categorize it as \"Obese.\" Implement the code to take user input for weight and height, calculate the BMI, and print both the BMI value rounded to two decimal places and its corresponding category."
      ],
      "metadata": {
        "id": "U33X8Hla5NZV"
      }
    },
    {
      "cell_type": "code",
      "source": [
        "weight = float(input(\"Enter Your weight: \"))\n",
        "Height = float(input(\"Enter your Height: \"))\n",
        "BMI = weight/Height**2\n",
        "if BMI < 18.50:\n",
        "  print(f\"BMI: {BMI:.2f}\")\n",
        "  print(\"Category: Underweight\")\n",
        "elif 18.50 <= BMI <24.90:\n",
        "  print(f\"BMI: {BMI:.2f}\")\n",
        "  print(\"Category: Normal weight\")\n",
        "elif 25.00 <= BMI < 29.90:\n",
        "  print(f\"BMI: {BMI:.2f}\")\n",
        "  print(\"Category: Overweight\")\n",
        "elif 30.0 < BMI  :\n",
        "  print(f\"BMI: {BMI:.2f}\")\n",
        "  print(\"Category: Obese\")\n",
        "else:\n",
        "  print(f\"BMI: {BMI:.2f}\")\n",
        "  print(\"Category: invalid input:\")"
      ],
      "metadata": {
        "colab": {
          "base_uri": "https://localhost:8080/"
        },
        "id": "kd-nDvKk5MsN",
        "outputId": "b6ed1e20-1c43-465a-c9a0-4d210f82795f"
      },
      "execution_count": null,
      "outputs": [
        {
          "output_type": "stream",
          "name": "stdout",
          "text": [
            "Enter Your weight: 52\n",
            "Enter your Height: 4.11\n",
            "BMI: 3.08\n",
            "Category: Underweight\n"
          ]
        }
      ]
    },
    {
      "cell_type": "markdown",
      "source": [
        "Task 3\n",
        "\n",
        "Write a Python program that classifies a person's age into different groups: Child (0-12), Teenager (13-19), Adult (20-64), and Senior (65+)."
      ],
      "metadata": {
        "id": "LnRW7yen9x6G"
      }
    },
    {
      "cell_type": "code",
      "source": [
        "Age = int(input(\"Enter your age:\"))\n",
        "if 0 <= Age <= 12 :\n",
        "  print(\"You belong to the Child group...!\")\n",
        "elif 13 <= Age <= 19 :\n",
        "  print(\"You belong to the Teenager group...!\")\n",
        "elif 20 <= Age <= 64 :\n",
        "  print(\"You belong to the Adult group...!\")\n",
        "elif 65 <= Age  :\n",
        "  print(\"You belong to the Senior group...!\")"
      ],
      "metadata": {
        "colab": {
          "base_uri": "https://localhost:8080/"
        },
        "id": "UOJQUewK92Jr",
        "outputId": "8ee684d7-62b7-43e4-abce-93c462aedc59"
      },
      "execution_count": null,
      "outputs": [
        {
          "output_type": "stream",
          "name": "stdout",
          "text": [
            "Enter your age:26\n",
            "You belong to the Adult group...!\n"
          ]
        }
      ]
    },
    {
      "cell_type": "markdown",
      "source": [
        "Task 4\n",
        "Write a Python program that calculates the ticket price based on the age of the person. The rules are:\n",
        "\n",
        "Children (age 0-12): Free\n",
        "\n",
        "Teenagers (age 13-19): $10\n",
        "\n",
        "Adults (age 20-64): $20\n",
        "\n",
        "Seniors (age 65+): $15"
      ],
      "metadata": {
        "id": "ykWcaWi0BdsL"
      }
    },
    {
      "cell_type": "code",
      "source": [
        "Age = int(input(\"Enter your age:\"))\n",
        "if 0 <= Age <= 12 :\n",
        "  print(\"Your ticket price is Free\")\n",
        "elif 13 <= Age <= 19 :\n",
        "  print(\"Your ticket price is $10\")\n",
        "elif 20 <= Age <= 64 :\n",
        "  print(\"Your ticket price is $20\")\n",
        "elif 65 <= Age  :\n",
        "  print(\"Your ticket price is $15\")"
      ],
      "metadata": {
        "colab": {
          "base_uri": "https://localhost:8080/"
        },
        "id": "fqSYynzpBbsn",
        "outputId": "a1d6347f-77e2-4e01-f37c-e108f9163bcf"
      },
      "execution_count": null,
      "outputs": [
        {
          "output_type": "stream",
          "name": "stdout",
          "text": [
            "Enter your age:25\n",
            "Your ticket price is $20\n"
          ]
        }
      ]
    },
    {
      "cell_type": "markdown",
      "source": [
        "Task 5\n",
        "\n",
        "\n",
        "Write a Python program that identifies the quadrant in which a point lies. Given (x, y) coordinates, the quadrants are:\n",
        "\n",
        "Quadrant 1 (x > 0 and y > 0)\n",
        "\n",
        "Quadrant 2 (x < 0 and y > 0)\n",
        "\n",
        "Quadrant 3 (x < 0 and y < 0)\n",
        "\n",
        "Quadrant 4 (x > 0 and y < 0)"
      ],
      "metadata": {
        "id": "B1qQ-Q79CoZi"
      }
    },
    {
      "cell_type": "code",
      "source": [
        "x = float(input(\"x-coordinate: \"))\n",
        "y = float(input(\"y-coordinate: \"))\n",
        "if x > 0 and y > 0:\n",
        "  print(\"The point is in Quadrant 1\")\n",
        "elif x < 0 and y > 0:\n",
        "  print(\"The point is in Quadrant 2\")\n",
        "elif x < 0 and y < 0:\n",
        "  print(\"The point is in Quadrant 3\")\n",
        "elif x > 0 and y < 0:\n",
        "  print(\"The point is in Quadrant 4\")\n",
        "\n"
      ],
      "metadata": {
        "colab": {
          "base_uri": "https://localhost:8080/"
        },
        "id": "GyrPnE-YCuaK",
        "outputId": "ac11ec58-ad73-4d30-a0cb-97f0377f0226"
      },
      "execution_count": null,
      "outputs": [
        {
          "output_type": "stream",
          "name": "stdout",
          "text": [
            "x-coordinate: 3\n",
            "y-coordinate: 5\n",
            "The point is in Quadrant 1\n"
          ]
        }
      ]
    }
  ]
}