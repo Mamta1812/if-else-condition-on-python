{
  "nbformat": 4,
  "nbformat_minor": 0,
  "metadata": {
    "colab": {
      "provenance": []
    },
    "kernelspec": {
      "name": "python3",
      "display_name": "Python 3"
    },
    "language_info": {
      "name": "python"
    }
  },
  "cells": [
    {
      "cell_type": "markdown",
      "source": [
        "**Task 1:**\n",
        "\n",
        "Write a Python program that takes two integer numbers as input from the user\n",
        "\n",
        "```\n",
        "Expected Output:\n",
        "Enter the first number: 10\n",
        "Enter the second number: 20\n",
        "your first number is  10 your second number is  20\n"
      ],
      "metadata": {
        "id": "sPt6dOXm8D_X"
      }
    },
    {
      "cell_type": "code",
      "execution_count": 1,
      "metadata": {
        "colab": {
          "base_uri": "https://localhost:8080/"
        },
        "id": "mcafJl2b8Azz",
        "outputId": "7d8d5c1b-0f5c-4e18-93b9-cc018683b141"
      },
      "outputs": [
        {
          "output_type": "stream",
          "name": "stdout",
          "text": [
            "Enter the first number: 45\n",
            "Enter the second number: 25\n",
            "your first number is 45 your second number is 25\n"
          ]
        }
      ],
      "source": [
        "num1 = int(input(\"Enter the first number: \"))\n",
        "num2 = int(input(\"Enter the second number: \"))\n",
        "print(f\"your first number is {num1} your second number is {num2}\")"
      ]
    },
    {
      "cell_type": "markdown",
      "source": [
        "**Task 2:**\n",
        "\n",
        "Write a Python program to check if a number is positive, negative, or zero."
      ],
      "metadata": {
        "id": "ghQl2h2Y8NZc"
      }
    },
    {
      "cell_type": "code",
      "source": [
        "num = int(input(\"enter your number\"))\n",
        "if num > 0:\n",
        "    print(\"Positive\")\n",
        "elif num < 0:\n",
        "    print(\"Negative\")\n",
        "else:\n",
        "    print(\"Zero\")"
      ],
      "metadata": {
        "colab": {
          "base_uri": "https://localhost:8080/"
        },
        "id": "rLzTkEZO8aM-",
        "outputId": "f6960759-5fc9-4af4-c47a-a97607db5525"
      },
      "execution_count": 2,
      "outputs": [
        {
          "output_type": "stream",
          "name": "stdout",
          "text": [
            "enter your number22\n",
            "Positive\n"
          ]
        }
      ]
    },
    {
      "cell_type": "markdown",
      "source": [
        "**Task 3:**\n",
        "\n",
        "Write a Python program to determine if a given year is a leap year. If the year is divisible by 4, check if it's also not divisible by 100 or divisible by 400. Print \"Leap year\" if it meets the conditions; otherwise, print \"Not a leap year.\"\n"
      ],
      "metadata": {
        "id": "ywSzwvr28gTo"
      }
    },
    {
      "cell_type": "code",
      "source": [
        "# 1st method to get the input .\n",
        "# Input a year\n",
        "year = int(input(\"Enter a year: \"))\n",
        "\n",
        "# Check for leap year\n",
        "if (year % 4 == 0 and year % 100 != 0) or year % 400 == 0:\n",
        "    print(\"Leap year\")\n",
        "else:\n",
        "    print(\"Not a leap year\")"
      ],
      "metadata": {
        "colab": {
          "base_uri": "https://localhost:8080/"
        },
        "id": "_iRtX-tj8mf-",
        "outputId": "b4ec63b3-dd6f-43d5-e088-4e8e25f8ffd5"
      },
      "execution_count": 4,
      "outputs": [
        {
          "output_type": "stream",
          "name": "stdout",
          "text": [
            "Enter a year: 2028\n",
            "Leap year\n"
          ]
        }
      ]
    },
    {
      "cell_type": "code",
      "source": [
        "# 2nd method to get that output\n",
        "def is_leap(year):\n",
        "  leap = False\n",
        "  if year % 4 == 0:\n",
        "    if year % 100 == 0:\n",
        "      if year % 400 == 0:\n",
        "        leap = True\n",
        "    elif year % 100 != 0:\n",
        "      leap = True\n",
        "  return leap\n",
        "\n",
        "year = int(input(\"Enter a year: \"))\n",
        "\n",
        "if is_leap(year):\n",
        "  print(year, \"is a leap year\")\n",
        "else:\n",
        "  print(year, \"is not a leap year\")"
      ],
      "metadata": {
        "colab": {
          "base_uri": "https://localhost:8080/"
        },
        "id": "HVpgKF078xrb",
        "outputId": "9f1f5532-d198-4c38-c8da-02bac8dc487f"
      },
      "execution_count": 5,
      "outputs": [
        {
          "output_type": "stream",
          "name": "stdout",
          "text": [
            "Enter a year: 2028\n",
            "2028 is a leap year\n"
          ]
        }
      ]
    },
    {
      "cell_type": "markdown",
      "source": [
        "**Task 4:**\n",
        "\n",
        " Write a Python program that simulates an ATM. The program should ask for the withdrawal amount and check if it's a multiple of 20  \n",
        "If not,inform the user that only multiples of 20 are allowed.\n"
      ],
      "metadata": {
        "id": "eW0cIfuH9LAi"
      }
    },
    {
      "cell_type": "code",
      "source": [
        "amount = int(input(\"Enter the withdrawal amount: \"))\n",
        "\n",
        "if amount % 20 == 0:\n",
        "    print(f\"Withdraw {amount} dollars.\")\n",
        "else:\n",
        "    print(\"Only multiples of $20 are allowed for withdrawal.\")"
      ],
      "metadata": {
        "colab": {
          "base_uri": "https://localhost:8080/"
        },
        "id": "arlx0i7L9RYM",
        "outputId": "2f6f50fd-e432-4804-a85b-b7369d3d5dfd"
      },
      "execution_count": 6,
      "outputs": [
        {
          "output_type": "stream",
          "name": "stdout",
          "text": [
            "Enter the withdrawal amount: 256\n",
            "Only multiples of $20 are allowed for withdrawal.\n"
          ]
        }
      ]
    },
    {
      "cell_type": "markdown",
      "source": [
        "**Task 5:**\n",
        "\n",
        " Write a Python program that calculates the ticket price for a movie. If a person is a student, they get a 20% discount. If the person is a senior, they get a 15% discount. If not, they pay the full price.\n"
      ],
      "metadata": {
        "id": "sIMsVtkN9XXq"
      }
    },
    {
      "cell_type": "code",
      "source": [
        "age = int(input(\"Enter your age: \"))\n",
        "is_student = input(\"Are you a student (yes/no)? \").lower()\n",
        "\n",
        "ticket_price = 10  # Default price\n",
        "\n",
        "if is_student == \"yes\":\n",
        "    ticket_price *= 0.8  # Apply 20% discount for students\n",
        "elif age >= 65:\n",
        "    ticket_price *= 0.85  # Apply 15% discount for seniors\n",
        "\n",
        "print(f\"Your ticket price is ${ticket_price:.2f}.\")"
      ],
      "metadata": {
        "colab": {
          "base_uri": "https://localhost:8080/"
        },
        "id": "2vGJkH-u9g3B",
        "outputId": "6d745d30-29ed-4347-8660-f0903d4a4089"
      },
      "execution_count": 7,
      "outputs": [
        {
          "output_type": "stream",
          "name": "stdout",
          "text": [
            "Enter your age: 12\n",
            "Are you a student (yes/no)? yes\n",
            "Your ticket price is $8.00.\n"
          ]
        }
      ]
    }
  ]
}