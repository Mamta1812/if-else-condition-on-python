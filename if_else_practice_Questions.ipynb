{
  "nbformat": 4,
  "nbformat_minor": 0,
  "metadata": {
    "colab": {
      "provenance": []
    },
    "kernelspec": {
      "name": "python3",
      "display_name": "Python 3"
    },
    "language_info": {
      "name": "python"
    }
  },
  "cells": [
    {
      "cell_type": "markdown",
      "source": [],
      "metadata": {
        "id": "dxE_s681gYFr"
      }
    },
    {
      "cell_type": "markdown",
      "source": [
        "Task 1\n",
        "\n",
        "Write a Python program that takes a temperature in Celsius as input and converts it to Fahrenheit. If the temperature is above 100°F, print \"Very hot,\" if it's between 80°F and 100°F, print \"Hot,\" and if it's below 80°F, print \"Moderate."
      ],
      "metadata": {
        "id": "zkHrIgq6gcIj"
      }
    },
    {
      "cell_type": "code",
      "execution_count": null,
      "metadata": {
        "colab": {
          "base_uri": "https://localhost:8080/"
        },
        "id": "-Y2d9-d-bRTW",
        "outputId": "cead1ee4-1682-4144-df7a-441f065fa4c4"
      },
      "outputs": [
        {
          "output_type": "stream",
          "name": "stdout",
          "text": [
            "Enter the temperature:17\n",
            "Moderate\n"
          ]
        }
      ],
      "source": [
        " #Question - 1 :\n",
        "# Formula : (0°C × 9/5) + 32 = 32°F\n",
        "C = int(input(\"Enter the temperature:\"))\n",
        "F = (C *( 9/5)) + 32\n",
        "if F > 100 :\n",
        "  print(\"Very hot\")\n",
        "elif F > 80 and F < 100 :\n",
        "  print(\"Hot\")\n",
        "elif F < 80:\n",
        "  print(\"Moderate\")\n",
        "else :\n",
        "  print(\"Inappropriate input...! \")\n"
      ]
    },
    {
      "cell_type": "markdown",
      "source": [
        "Task 2\n",
        "\n",
        "Write a Python program to categorize an employee's performance based on their monthly sales. Print \"Excellent\" for sales over 10,000,\"Good\"for sales between 5,000 and 10,000,\"Average\"for sales between 2,000 and 5,000,and \"Poor\" for sales below 2,000."
      ],
      "metadata": {
        "id": "WgMoaxTYgKh8"
      }
    },
    {
      "cell_type": "code",
      "source": [
        "# Question -2 :\n",
        "MS = int(input(\"Enter the Monthly sale of an Employee: \"))\n",
        "if MS > 10000:\n",
        "  print(\"Employee's performance: Excelllent\")\n",
        "elif MS > 5000 and MS < 10000:\n",
        "  print(\"Employee's performance: Good\")\n",
        "elif MS >2000 and MS < 5000 :\n",
        "  print(\"Employee's performance: Average\")\n",
        "elif MS > 2000:\n",
        "  print(\"Employee's performance: Poor\")\n",
        "else :\n",
        "  Print(\"IN appropriate input..!\")"
      ],
      "metadata": {
        "colab": {
          "base_uri": "https://localhost:8080/"
        },
        "id": "Fofy9Jfkh_XA",
        "outputId": "3007657b-95f0-4045-946b-a837746ce177"
      },
      "execution_count": null,
      "outputs": [
        {
          "output_type": "stream",
          "name": "stdout",
          "text": [
            "Enter the Monthly sale of an Employee: 30000\n",
            "Employee's performance: Excelllent\n"
          ]
        }
      ]
    },
    {
      "cell_type": "markdown",
      "source": [
        "Task 3\n",
        "\n",
        "Write a Python Program to find the maximum of 3 numbers. Take the input from user"
      ],
      "metadata": {
        "id": "_TEIps96gCBH"
      }
    },
    {
      "cell_type": "code",
      "source": [
        "# Question 3\n",
        "num1=float(input())\n",
        "num2=float(input())\n",
        "num3=float(input())\n",
        "if num1>num2 and num2>num3:\n",
        " print(f\"Max: {num1}\")\n",
        "elif num1>num3 and num3>num2:\n",
        " print(f\"Max: {num1}\")\n",
        "elif num2>num1 and num1>num3:\n",
        "  print(f\"Max: {num2}\")\n",
        "elif num2>num3 and num3>num1:\n",
        "  print(f\"Max: {num2}\")\n",
        "elif num3>num1 and num1>num2:\n",
        "  print(f\"Max: {num3}\")\n",
        "elif num3>num2 and num2>num1:\n",
        "  print(f\"Max: {num3}\")\n",
        "else :\n",
        "  print(\"Enter the valid number...!\")\n"
      ],
      "metadata": {
        "colab": {
          "base_uri": "https://localhost:8080/"
        },
        "id": "OC_ix-h5DBU6",
        "outputId": "1ab21439-d655-44a6-8571-f67ffe449114"
      },
      "execution_count": null,
      "outputs": [
        {
          "output_type": "stream",
          "name": "stdout",
          "text": [
            "19\n",
            "34\n",
            "22\n",
            "Max: 34.0\n"
          ]
        }
      ]
    },
    {
      "cell_type": "markdown",
      "source": [
        "Task 4\n",
        "\n",
        "\n",
        "Write a Python program to determine the grade of a student based on their marks. The grading system is as follows:\n",
        "\n",
        "90 or above: 'A' 80-89: 'B' 70-79: 'C' 60-69: 'D' Below 60: 'F' Additionally, check if the student has passed or failed (marks greater than or equal to 50 are considered passing).\n",
        "\n",
        "Your program should take the student's marks as input and display both the grade and whether they passed or failed. provide python code for this."
      ],
      "metadata": {
        "id": "ZKfO4QTBMKNh"
      }
    },
    {
      "cell_type": "code",
      "source": [
        "# Question 4\n",
        "m1 = int(input(\"Enter the marks of the student: \"))\n",
        "if m1 > 90 :\n",
        "  print(f\"Grade: A\")\n",
        "  print(f\"Status: Pass\")\n",
        "elif 80 <= m1 <= 89:\n",
        "  print(f\"Grade: B\")\n",
        "  print(f\"Status: Pass\")\n",
        "elif 70 <= m1 <= 79:\n",
        "  print(f\"Grade: B\")\n",
        "  print(f\"Status: Pass\")\n",
        "elif 60 <= m1 <= 69:\n",
        "  print(f\"Grade: C\")\n",
        "  print(f\"Status: Pass\")\n",
        "elif 50 <= m1 <= 59:\n",
        "  print(f\"Grade: F\")\n",
        "  print(f\"Status: Pass\")\n",
        "elif 50 > m1:\n",
        "  print(f\"Grade: F\")\n",
        "  print(f\"Status: Failed\")\n",
        "else:\n",
        "  print(\"Invalid input...!\")"
      ],
      "metadata": {
        "colab": {
          "base_uri": "https://localhost:8080/"
        },
        "id": "pEPVf0QiLo9M",
        "outputId": "d68f68ca-659c-497e-8fe9-e4cb9cdbe1fe"
      },
      "execution_count": null,
      "outputs": [
        {
          "output_type": "stream",
          "name": "stdout",
          "text": [
            "Enter the marks of the student: 65\n",
            "Grade: C\n",
            "Status: Pass\n"
          ]
        }
      ]
    },
    {
      "cell_type": "markdown",
      "source": [
        "Task 5\n",
        "\n",
        "Write a Python program that takes two numbers as input and checks if the first number is divisible by the second number. If it is, print \"Divisible,\" otherwise, print \"Not divisible.\n",
        "\n"
      ],
      "metadata": {
        "id": "csSEYPXscu-c"
      }
    },
    {
      "cell_type": "code",
      "source": [
        "num1 = int(input())\n",
        "num2 = int(input())\n",
        "if num1 % num2 == 0 :\n",
        "  print(\"Divisible\")\n",
        "else :\n",
        "  print(\"Not divisible\")"
      ],
      "metadata": {
        "colab": {
          "base_uri": "https://localhost:8080/"
        },
        "id": "IbHna4FfcrUw",
        "outputId": "71308312-f398-4591-9e99-3fdf47584336"
      },
      "execution_count": null,
      "outputs": [
        {
          "output_type": "stream",
          "name": "stdout",
          "text": [
            "58\n",
            "5\n",
            "Not divisible\n"
          ]
        }
      ]
    }
  ]
}