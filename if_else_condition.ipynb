{
  "nbformat": 4,
  "nbformat_minor": 0,
  "metadata": {
    "colab": {
      "provenance": []
    },
    "kernelspec": {
      "name": "python3",
      "display_name": "Python 3"
    },
    "language_info": {
      "name": "python"
    }
  },
  "cells": [
    {
      "cell_type": "code",
      "execution_count": 4,
      "metadata": {
        "colab": {
          "base_uri": "https://localhost:8080/"
        },
        "id": "BNgTNrR-sSEU",
        "outputId": "e4338d96-a1ce-419d-9c6a-ce8c333db2d7"
      },
      "outputs": [
        {
          "output_type": "stream",
          "name": "stdout",
          "text": [
            "hello python\n",
            "Enter your name :hina\n",
            "hina  welcome to python .\n",
            " Hello  hina  welcome to pyhton .\n",
            "<class 'int'>\n",
            "<class 'float'>\n",
            "<class 'str'>\n",
            "<class 'bool'>\n",
            "Enter your age:45\n",
            "Data scientist at the age of  45\n",
            "<class 'str'>\n",
            "Enter your age :34\n",
            "34\n",
            "<class 'int'>\n",
            "Enter first number 23\n",
            "Enter second number 35\n",
            "The product of a and b is 805\n",
            " integer , string , bool ,list , tuple , set , Dictionary , complex\n",
            "list of age_value: [25, 29, 23, 27, 24, 28]\n",
            "[25, 29, 23, 27, 24, 28]\n",
            "25\n",
            "29\n",
            "23\n",
            "27\n",
            "24\n",
            "['tomholand', 'Sadhaya', 'Monish', 'Tejal', 'Aishwariya', 'soni'] [25, 29, 23, 27, 24, 28]\n",
            "tomholand 25\n"
          ]
        }
      ],
      "source": [
        "#first python workshop w1d1 .\n",
        "# indentation errror , is a error related to in appropriate spacing, so be aware of it.\n",
        "print (\"hello python\")\n",
        "\n",
        "#input : use to take the input from the usear.\n",
        "# here <user_name> is a variable .\n",
        "# we can not store multiple values in one variable\n",
        "# one variable can store 1 single value\n",
        "user_name = \"diayana\"\n",
        "# after useng the same variable <user_name > for the second time to get the input it only has only one value that is stored in it which is the input value.\n",
        "\n",
        "user_name = input(\"Enter your name :\")\n",
        "print(user_name ,\" welcome to python .\")\n",
        "# u can also write as\n",
        "print(\" Hello  \" + user_name + \"  welcome to pyhton .\" )\n",
        "\n",
        "\n",
        "# type : to determine the types of the data types\n",
        "a = 10\n",
        "print(type(a))\n",
        "b = 10.5\n",
        "print(type(b))\n",
        "c = \"michal boss \"\n",
        "print(type(c))\n",
        "d = True\n",
        "print(type(d))\n",
        "\n",
        "# take age as an input and display it's type\n",
        "user_age = input(\"Enter your age:\")\n",
        "print(\"Data scientist at the age of  \" + user_age )\n",
        "print(type(user_age))\n",
        "# type conversion\n",
        "# lets change the variable user_age from <str> data type in to a <int> data type.\n",
        "# u can only concat the string not a integer to the string.\n",
        "user_age = int(input(\"Enter your age :\"))\n",
        "print(user_age )\n",
        "print(type(user_age))\n",
        "\n",
        "# take two numbers in display its output .\n",
        "a = int(input(\"Enter first number \"))\n",
        "b = int(input(\"Enter second number \"))\n",
        "c = a*b\n",
        "print(\"The product of a and b is \" + str(c))\n",
        "# in the above line we have done type conversion of <int> into string\n",
        "#       because we can not concat a string with an int type so we converted\n",
        "#         so we converted <c> from int data type to string data type.\n",
        "\n",
        "# list of data types in python\n",
        "print(\" integer , string , bool ,list , tuple , set , Dictionary , complex\")\n",
        "\n",
        "# list data type : is a collection of different values,\n",
        "#                   they are saperated by coma,\n",
        "#                   values are stored in the square bracket.\n",
        "#                   elements of a list are accessed through indexing .\n",
        "#                   index always starts with 0\n",
        "\n",
        "# store age of 10 students in a class.\n",
        "age_value = [25,29,23,27,24,28]\n",
        "print(\"list of age_value: \" + str(age_value))\n",
        "print(age_value)\n",
        "print(age_value[0])\n",
        "print(age_value[1])\n",
        "print(age_value[2])\n",
        "print(age_value[3])\n",
        "print(age_value[4])\n",
        "\n",
        "# print the name of the person of that age in the list and then concat the list with the age.\n",
        "Name_Of_Users = [\"tomholand\",\"Sadhaya\",\"Monish\",\"Tejal\",\"Aishwariya\",\"soni\" ]\n",
        "print(Name_Of_Users ,age_value)\n",
        "# here in the above line we have concatenated the <Name_Of_User> with <age_value>\n",
        "# remember pyhton is a case sensitive language.\n",
        "print(Name_Of_Users[0] , age_value[0])\n",
        "\n",
        "# Operators\n",
        "# Arithmetic : + , - , * , / , %\n",
        "# Comparison : == , >= , > , < , <= , !=\n",
        "# Logical : and , or , not\n",
        "# Assignment : = , += , -=\n",
        "# Membership : in , not in\n",
        "\n"
      ]
    },
    {
      "cell_type": "code",
      "source": [
        "#Python w1d1 ct\n",
        "#T-1\n",
        "Username = input()\n",
        "print(\"hello\"+Username+\",Congratulations on your first python program!!\")\n",
        "\n",
        "#T-2\n",
        "dividend=int(input())\n",
        "divisor=int(input())\n",
        "print(\"Quotient is :\" ,dividend/divisor)\n",
        "\n",
        "#T-3\n",
        "user_name = input()\n",
        "user_age = input()\n",
        "user_gender = input()\n",
        "user_occupation = input()\n",
        "print(user_name + \" is \" + user_age + \" years old \" + user_gender+\" \" + user_occupation)\n",
        "\n",
        "#T-4\n",
        "lenght = float(input())\n",
        "breadth = float(input())\n",
        "area = lenght*breadth\n",
        "print(\"The area of the rectangle is \" + str(area))\n",
        "\n",
        "#T-5\n",
        "number =int(input())\n",
        "number = number+1\n",
        "print(\"The incremented number is \" + str(number))"
      ],
      "metadata": {
        "id": "hIQUyX8nG-wl"
      },
      "execution_count": null,
      "outputs": []
    },
    {
      "cell_type": "code",
      "source": [
        "#w-1d-2 ct\n",
        "#WAP that takes marks of 3 subjects of a student and find the total marks\n",
        "#use list to do the above problem\n",
        "marks = []                                                  # here we have not given the size of the list - the size of the list\n",
        "marks.append(int(input(\"Enter the marks for subject SQL\"))) #     deffines the bucket size of the list -which means how much can a list have .\n",
        "marks.append(int(input(\"Enter the marks of subject python\")))\n",
        "marks.append(int(input(\"Enter the marks of subject mis\")))\n",
        "total = marks[0]+marks[1]+marks[2]\n",
        "print(total)\n",
        "# while adding elements to a list we need to use append .\n",
        "age =[99,98,97]\n",
        "print(\"age \"+ str(age[1]))\n",
        "#here in the above age we alwarady know the value of the index and size of the list ,\n",
        "# so we directly had entered the index of the list and got the value.\n",
        "# so when ever we are assigning value directly to a list we hav eto use append function .\n",
        "\n",
        "\n",
        "\n"
      ],
      "metadata": {
        "colab": {
          "base_uri": "https://localhost:8080/"
        },
        "id": "EeMYRfdjV4T5",
        "outputId": "25f09692-df2f-4844-eab9-b7c95da722d7"
      },
      "execution_count": null,
      "outputs": [
        {
          "output_type": "stream",
          "name": "stdout",
          "text": [
            "Enter the marks for subject SQL3\n",
            "Enter the marks of subject python7\n",
            "Enter the marks of subject mis6\n",
            "16\n",
            "age 98\n"
          ]
        }
      ]
    },
    {
      "cell_type": "code",
      "source": [
        "# write a program to take 2 numbers from the user and display the largest of them\n",
        "# if statement\n",
        "# if <condition> :\n",
        "#      #do(somthing)\n",
        "#else :\n",
        "#      #do(something)\n",
        "a = 10\n",
        "b = 12\n",
        "if a < b :\n",
        "  print(\"b is greater \" )\n",
        "else :\n",
        "  print(\"a is greater \")\n",
        "# space between key words\n",
        "# indentation shod be proper\n"
      ],
      "metadata": {
        "colab": {
          "base_uri": "https://localhost:8080/"
        },
        "id": "Ay9t5YvZF1jQ",
        "outputId": "4d2d9587-90c6-469c-e9cb-322870a4a8c9"
      },
      "execution_count": null,
      "outputs": [
        {
          "output_type": "stream",
          "name": "stdout",
          "text": [
            "b is greater \n"
          ]
        }
      ]
    },
    {
      "cell_type": "code",
      "source": [
        "# Take input from the user and display if it is positive or negative .\n",
        "a = int(input(\"Enter a number a:\"))\n",
        "if a > 0 :\n",
        "     print(\" a is POSITIVE integer.\")\n",
        "else :\n",
        "      print(\" a is NRGATIVE integer\")\n",
        "#every if/else condition should have at least in if/else block\n",
        "#else block should always match its corresponding if block"
      ],
      "metadata": {
        "colab": {
          "base_uri": "https://localhost:8080/"
        },
        "id": "gMP2FHZEKZ01",
        "outputId": "396cef78-9dd1-482c-e7f1-bd0606c0e137"
      },
      "execution_count": null,
      "outputs": [
        {
          "output_type": "stream",
          "name": "stdout",
          "text": [
            "Enter a number a:2\n",
            " a is POSITIVE :\n"
          ]
        }
      ]
    },
    {
      "cell_type": "code",
      "source": [
        "# Ask the user for their credit score and income to determine if they are elegible for a credit card .\n",
        "# credit score greater than 600 and income greater than 50,000\n",
        "u_creditscore = int(input(\"Enter your CREDIT score : \"))\n",
        "u_income = int(input(\"Enter your income:\"))\n",
        "if ((u_creditscore > 600) and (u_income >50000)) :\n",
        "  print(\"You are elegible for the credit card !\")\n",
        "else :\n",
        "  print(\"You are not elegible for credit card . \")\n"
      ],
      "metadata": {
        "colab": {
          "base_uri": "https://localhost:8080/"
        },
        "id": "1YgNYaO_Mcl9",
        "outputId": "2d167344-baf6-4f58-9359-22a01e41a05b"
      },
      "execution_count": null,
      "outputs": [
        {
          "output_type": "stream",
          "name": "stdout",
          "text": [
            "Enter your CREDIT score : 650\n",
            "Enter your income:100000\n",
            "You are elegible for the credit card !\n"
          ]
        }
      ]
    },
    {
      "cell_type": "code",
      "source": [
        "#Ask the user to enter a number and check if it is even or odd\n",
        "a = int(input(\"enter a number\"))\n",
        "if a % 2 == 0 :\n",
        "  print(\"The number is even.\")\n",
        "else :\n",
        "  print(\"The number is odd. \")\n"
      ],
      "metadata": {
        "colab": {
          "base_uri": "https://localhost:8080/"
        },
        "id": "-q_802i0R-KC",
        "outputId": "3620308c-bb00-42e9-94ed-85861659eb57"
      },
      "execution_count": null,
      "outputs": [
        {
          "output_type": "stream",
          "name": "stdout",
          "text": [
            "enter a number4\n",
            "The number is even.\n"
          ]
        }
      ]
    },
    {
      "cell_type": "code",
      "source": [
        "# Ask a user to enter their age and classify them in to different age groups.\n",
        "# age less then 18 is minor ,age between 18 and 65 is adult , age above 65 is senior.\n",
        "age = int(input(\"Enter your age:\"))\n",
        "if age < 18:\n",
        "  print(\"minor\")\n",
        "elif age >= 18 and age < 65 :\n",
        "  print(\"adult\")\n",
        "else :\n",
        "  print(\"senior\")\n"
      ],
      "metadata": {
        "colab": {
          "base_uri": "https://localhost:8080/"
        },
        "id": "x4h75qdcbM0b",
        "outputId": "b590df94-6835-4b9f-8fce-e646c7d725e4"
      },
      "execution_count": null,
      "outputs": [
        {
          "output_type": "stream",
          "name": "stdout",
          "text": [
            "Enter your age:18\n",
            "adult\n"
          ]
        }
      ]
    },
    {
      "cell_type": "code",
      "source": [
        "#check if a student's gread falls into a different categories(A,B,C,D,orF) by taking students marks as input\n",
        "#marks >90 : A ,80-90 : B ,70-80 : C , 60-70 : D else F\n",
        "marks = int(input(\"Enter the marks of the student \"))\n",
        "if marks > 90:\n",
        "  print(\"A\")\n",
        "elif marks >80 and marks<=90:\n",
        "  print(\"B\")\n",
        "elif marks >70 and marks<=80:\n",
        "  print(\"c\")\n",
        "elif marks >60 and marks<=70:\n",
        "  print(\"D\")\n",
        "else :\n",
        "  print(\"F\")"
      ],
      "metadata": {
        "colab": {
          "base_uri": "https://localhost:8080/"
        },
        "id": "A5mjZ-pIe-If",
        "outputId": "62e73dd0-2bba-4003-9535-62a8a3706975"
      },
      "execution_count": null,
      "outputs": [
        {
          "output_type": "stream",
          "name": "stdout",
          "text": [
            "Enter the marks of the student 98\n",
            "A\n"
          ]
        }
      ]
    },
    {
      "cell_type": "code",
      "source": [
        "# Ask the user to enter three sides and classify the type of a triangle\n",
        "# equilateral = 3 sides same\n",
        "#isosceles = 2 sides same\n",
        "#scalene = no sides same\n",
        "\n",
        "s1 = int(input(\"Enter the first side of the triangle:\"))\n",
        "s2 = int(input(\"Enter the second side of the triangle:\"))\n",
        "s3 = int(input(\"Enter the third side of the triangle:\"))\n",
        "\n",
        "if s1 == s2 and s2 == s3 :\n",
        "  print(\"Triangle is a equilateral Triangle\")\n",
        "elif s1 == s2 and s2 != s3:\n",
        "  print(\"Triangle is a isosceles Triangle\")\n",
        "elif s3 == s1 and s2 != s1:\n",
        "  print(\"Triangle is a isosceles Triangle\")\n",
        "elif s2 == s3 and s1 != s2:\n",
        "  print(\"Triangle is a isosceles Triangle\")\n",
        "else :\n",
        "  print(\"Triangle is a scalene Triangle\")\n",
        "\n",
        "# All the isosceles triangle formula can also be written as given bellow.\n",
        "# elif s1 == s2 or s2 == s3 :\n"
      ],
      "metadata": {
        "colab": {
          "base_uri": "https://localhost:8080/"
        },
        "id": "qnDftbJOorQi",
        "outputId": "4801d970-962e-4cd4-b53a-e3d63df07be8"
      },
      "execution_count": 5,
      "outputs": [
        {
          "output_type": "stream",
          "name": "stdout",
          "text": [
            "Enter the first side of the triangle:5\n",
            "Enter the second side of the triangle:8\n",
            "Enter the third side of the triangle:9\n",
            "Triangle is a scalene Triangle\n"
          ]
        }
      ]
    },
    {
      "cell_type": "code",
      "source": [
        "# Ask the user to enter the total puchase amount and their membership status .\n",
        "# apply discount on the base of the following condition\n",
        "# - IF total purchase is $ 100 or more apply 10% discount .\n",
        "# - If total purchase is $200 or more and user is a premium customer ,apply 15% discount .\n",
        "# - If the total purchase is less than $ 100 and is a premium customer apply , 5% discount .\n",
        "# - If non of the above condition match then provide a standard 0% discount .\n",
        "# TPM = total purchase amount .\n",
        "#MS = Membership_status\n",
        "#discountamount = discount * TPM\n",
        "#TotalAmount = TPM - discountamount\n",
        "\n",
        "TPM = int(input(\"Enter the purchase amount :\"))\n",
        "MS = input(\"enter the membership satus :\")\n",
        "if MS == (\"premium\") and TPM >= 200 :\n",
        "  print(\"15% discount !\")\n",
        "  discount = 0.15\n",
        "  discountamount = discount * TPM\n",
        "  TotalAmount = TPM - discountamount\n",
        "  print(\"Total amount to pay : \" + str(TotalAmount)) # concatination used\n",
        "\n",
        "elif TPM >= 100 :\n",
        "  print(\" 10% discount\")\n",
        "  discount = 0.01\n",
        "  discountamount = discount * TPM\n",
        "  TotalAmount = TPM - discountamount\n",
        "  print(\"Total amount to pay : \" + str(TotalAmount))  # concatination used\n",
        "\n",
        "elif MS == (\"premium\") and TPM < 100 :\n",
        "  print(\"5% discount\")\n",
        "  discount = 0.05\n",
        "  discountamount = discount * TPM\n",
        "  TotalAmount = TPM - discountamount\n",
        "  print(\"Total amount to pay : \" + str(TotalAmount))  # concatination used\n",
        "\n",
        "else :\n",
        "  print(\"0% discount\")\n",
        "  discount = 0\n",
        "  discountamount = discount * TPM\n",
        "  TotalAmount = TPM - discountamount\n",
        "  print(\"Total amount to pay : \" + str(TotalAmount))  # concatination used\n"
      ],
      "metadata": {
        "colab": {
          "base_uri": "https://localhost:8080/"
        },
        "id": "33KAXahu8brQ",
        "outputId": "d01ebb33-1beb-4ff2-e59a-2b44ec5513dd"
      },
      "execution_count": null,
      "outputs": [
        {
          "output_type": "stream",
          "name": "stdout",
          "text": [
            "Enter the purchase amount :45\n",
            "enter the membership satus :no\n",
            "0% discount\n",
            "Total amount to pay : 45\n"
          ]
        }
      ]
    },
    {
      "cell_type": "code",
      "source": [
        "# The program written another way.\n",
        "amount = int(input(\"Enter the purchase amount :\"))\n",
        "mem = input(\"Are you a premium member:\")\n",
        "discount = 0\n",
        "if amount >= 100 :\n",
        "  discount = 0.1\n",
        "elif amount >=200 and mem == \"yes\":\n",
        "  discount = 0.15\n",
        "elif amount < 100 and mem == \"yes\":\n",
        "  discount = 0.5\n",
        "\n",
        "discountvalue = discount * amount\n",
        "totalamount = amount - discountvalue\n",
        "print( totalamount )\n",
        "\n",
        "# not a correct program as per the out put.\n"
      ],
      "metadata": {
        "colab": {
          "base_uri": "https://localhost:8080/"
        },
        "id": "6aVrRI6DSoPj",
        "outputId": "95caed48-f3d2-4499-d12a-6d6216fe42e9"
      },
      "execution_count": null,
      "outputs": [
        {
          "output_type": "stream",
          "name": "stdout",
          "text": [
            "Enter the purchase amount :45\n",
            "Are you a premium member:no\n",
            "45\n"
          ]
        }
      ]
    },
    {
      "cell_type": "code",
      "source": [],
      "metadata": {
        "id": "gzcId_-PfdX5"
      },
      "execution_count": null,
      "outputs": []
    }
  ]
}