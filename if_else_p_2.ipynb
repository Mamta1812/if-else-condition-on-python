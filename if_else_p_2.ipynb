{
  "nbformat": 4,
  "nbformat_minor": 0,
  "metadata": {
    "colab": {
      "provenance": []
    },
    "kernelspec": {
      "name": "python3",
      "display_name": "Python 3"
    },
    "language_info": {
      "name": "python"
    }
  },
  "cells": [
    {
      "cell_type": "code",
      "execution_count": null,
      "metadata": {
        "colab": {
          "base_uri": "https://localhost:8080/"
        },
        "id": "0JYlZ8jQ1yia",
        "outputId": "78ca8b1b-3da0-4fec-de0c-e6783a2156ee"
      },
      "outputs": [
        {
          "output_type": "stream",
          "name": "stdout",
          "text": [
            "4\n",
            "The area of the circle is 50.24\n"
          ]
        }
      ],
      "source": [
        "# Quesstion 1\n",
        "\n",
        "r = int(input())\n",
        "area = 3.14*r*r\n",
        "print(\"The area of the circle is \" + str(area))"
      ]
    },
    {
      "cell_type": "code",
      "source": [
        "# Question 2\n",
        "\n",
        "b = int(input(\"Enter the value of thw base :\"))\n",
        "e = int(input(\"Enter the value of the exponential:\"))\n",
        "ans = b**e\n",
        "print(str(b) + \" raised to the power of \" + str(e) + \" is \" + str(ans))\n",
        "\n",
        "# to get the correct out put subbmition in odin labs do the bellow program.\n",
        "b = int(input())\n",
        "e = int(input())\n",
        "ans = b**e\n",
        "print(str(b) + \" raised to the power of \" + str(e) + \" is \" + str(ans))\n",
        "\n"
      ],
      "metadata": {
        "colab": {
          "base_uri": "https://localhost:8080/"
        },
        "id": "KkY9hhmb4eyR",
        "outputId": "1f363ddc-0bf0-4d01-ffe8-5f6b5507ffcc"
      },
      "execution_count": null,
      "outputs": [
        {
          "output_type": "stream",
          "name": "stdout",
          "text": [
            "Enter the value of thw base :2\n",
            "Enter the value of the exponential:4\n",
            "2 raised to the power of 4 is 16\n",
            "2\n",
            "10\n",
            "2 raised to the power of 10 is 1024\n"
          ]
        }
      ]
    },
    {
      "cell_type": "code",
      "source": [
        "# Question - 3\n",
        "f1 = int(input(\"Enter the Dividend :\")) # the number which is to be divided\n",
        "f2 = int(input(\"Enter the Divisor :\"))  # the number by which it is divided\n",
        "ans = f1 % f2\n",
        "print(\"The remainder of \" + str(f1) + \" divided by \"+ str(f2) + \" is \" + str(ans))\n",
        "\n",
        "\n",
        "# to get the correct out put subbmition in odin labs do the bellow program.\n",
        "f1 = int(input())\n",
        "f2 = int(input())\n",
        "ans = f1 % f2\n",
        "print(\"The remainder of \" + str(f1) + \" divided by \"+ str(f2) + \" is \" + str(ans))"
      ],
      "metadata": {
        "colab": {
          "base_uri": "https://localhost:8080/"
        },
        "id": "5LUcajDs-E5c",
        "outputId": "f12cfd2d-ac85-4baa-f1eb-20743ca95e14"
      },
      "execution_count": null,
      "outputs": [
        {
          "output_type": "stream",
          "name": "stdout",
          "text": [
            "Enter the Dividend :5\n",
            "Enter the Divisor :6\n",
            "The remainder of 5 divided by 6 is 5\n",
            "5\n",
            "5\n",
            "The remainder of 5 divided by 5 is 0\n"
          ]
        }
      ]
    },
    {
      "cell_type": "code",
      "source": [
        "a = input()\n",
        "print(\"The data type of the entered value is \"+ str(type(a)))\n"
      ],
      "metadata": {
        "colab": {
          "base_uri": "https://localhost:8080/"
        },
        "id": "tILte8irB18U",
        "outputId": "f3076a88-836e-4576-bf4c-6116d48c4da3"
      },
      "execution_count": null,
      "outputs": [
        {
          "output_type": "stream",
          "name": "stdout",
          "text": [
            "j\n",
            "The data type of the entered value is <class 'str'>\n"
          ]
        }
      ]
    },
    {
      "cell_type": "code",
      "source": [
        "#Question - 5\n",
        "\n",
        "l = float(input(\"Enter the length of the rectangle :\"))\n",
        "b = float(input(\"Enter the breadth of the rectangle :\"))\n",
        "area = l*b\n",
        "perimeter = 2*(l+b)\n",
        "print(\"The area of the rectangle is: \" + str(area))\n",
        "print(\"The perimeter of the rectangle is: \"+ str(perimeter))\n",
        "\n",
        "# to get the correct out put subbmition in odin labs do the bellow program.\n",
        "l = float(input())\n",
        "b = float(input())\n",
        "area = l*b\n",
        "perimeter = 2*(l+b)\n",
        "print(\"The area of the rectangle is: \" + str(area))\n",
        "print(\"The perimeter of the rectangle is: \"+ str(perimeter))\n",
        "\n",
        "\n"
      ],
      "metadata": {
        "colab": {
          "base_uri": "https://localhost:8080/"
        },
        "id": "AfLI3VBIBdFC",
        "outputId": "847f2e78-ecf5-44f4-c2c2-355f3bf206f3"
      },
      "execution_count": null,
      "outputs": [
        {
          "output_type": "stream",
          "name": "stdout",
          "text": [
            "Enter the length of the rectangle :4\n",
            "Enter the breadth of the rectangle :2\n",
            "The area of the rectangle is: 8.0\n",
            "The perimeter of the rectangle is: 12.0\n",
            "2\n",
            "3\n",
            "The area of the rectangle is: 6.0\n",
            "The perimeter of the rectangle is: 10.0\n"
          ]
        }
      ]
    },
    {
      "cell_type": "code",
      "source": [
        "# 4 different types of data .\n",
        "# integer - wretten as <int> stores -ve,0,+ve ;eg : -1,0,1\n",
        "# float - stores: -1.25 ,0 , 2.24\n",
        "# string - wretten as <str> stores : a,b,c,d,A,B.... ;  eg str(\"abc\")\n",
        "# variable is weitten as bellow\n",
        "# area = 15\n",
        "# so here area is the name of the variable and 15 is the value assigned to it\n",
        "# <=> is a assignment operator .\n",
        "# functions\n",
        "# 2 types of function\n",
        "# pre defined function : The function that is diffined by the programming language. ; Eg :print()\n",
        "# user defined function : The function that si deffined by the user of the programming language ... ;\n",
        "# type()-- function is used to know the type of the variable .\n",
        "a = input(\"enter any name or number:\" )\n",
        "b=55.55\n",
        "print(\"The data type of the entered value is \"+ str(type(b)))\n",
        "print(type(a))\n",
        "# for removing the number after point we write as bellow\n",
        "div=99/5\n",
        "print(div)\n",
        "divno=99//5   #flour division.\n",
        "print(divno)\n",
        "# for power of some thing\n",
        "power = 4**4\n",
        "print(power)"
      ],
      "metadata": {
        "id": "OxP8GRvKJJp5",
        "colab": {
          "base_uri": "https://localhost:8080/"
        },
        "outputId": "d468d375-21ad-405b-c849-e4d5d9ff91c2"
      },
      "execution_count": null,
      "outputs": [
        {
          "output_type": "stream",
          "name": "stdout",
          "text": [
            "enter any name or number:j\n",
            "The data type of the entered value is <class 'float'>\n",
            "<class 'str'>\n",
            "19.8\n",
            "19\n",
            "256\n"
          ]
        }
      ]
    },
    {
      "cell_type": "code",
      "source": [
        "list_1 = [5,6,7,8,9,10,11.5,99.58,46.74]\n",
        "print(type(list_1))\n",
        "ask = 10 in list_1\n",
        "print(ask)\n",
        "# How to use in operator in list .\n",
        "ask_not = 99.58 not in list_1\n",
        "print(ask_not)\n",
        "# how to use < not in > in the list.\n",
        "c=5\n",
        "d=5\n",
        "check = c is d\n",
        "print(check)\n",
        "# how to use <is > operater -- to check if two variables are equal or not."
      ],
      "metadata": {
        "colab": {
          "base_uri": "https://localhost:8080/"
        },
        "id": "wV7ySSDrCHvb",
        "outputId": "73dd9c27-03ac-415b-ded2-123d9bffa0bb"
      },
      "execution_count": null,
      "outputs": [
        {
          "output_type": "stream",
          "name": "stdout",
          "text": [
            "<class 'list'>\n",
            "True\n",
            "False\n",
            "True\n"
          ]
        }
      ]
    },
    {
      "cell_type": "code",
      "source": [
        "# literals means simple values.\n",
        "w = 45 # 45 is a literal over here , number assigned to a variable is called a literal.\n",
        "print(w**w)\n",
        "# use of f-strings here we do not need type conversion ,or concatination we can do it without it .\n",
        "#f-strings\n",
        "fruits = \"apple,banana,mango,per\"\n",
        "b=5\n",
        "a=3\n",
        "p=b**a\n",
        "print(f\"i like {fruits}.\")\n",
        "print(f\"i like {p}.\")\n",
        "# print a set of numbers.\n",
        "x={1,2,3,4,5,6,7,8,9,10}\n",
        "print(type(x))\n",
        "print(f\"set of Numbers:{x}\")\n",
        "print(\"i like \",fruits)\n",
        "print(\"number id\",a)\n",
        "print(\"product is\",p,a,b)\n",
        "# concatination in print.\n",
        "print(str(a)+\"is\"+str(b))\n",
        "a=10\n",
        "a+=1 # this is same as <a=a+1>\n",
        "print(a)\n"
      ],
      "metadata": {
        "colab": {
          "base_uri": "https://localhost:8080/"
        },
        "id": "QZC5VFSKDHbQ",
        "outputId": "929d1be4-ff71-442d-aee3-3fbfb033016f"
      },
      "execution_count": null,
      "outputs": [
        {
          "output_type": "stream",
          "name": "stdout",
          "text": [
            "248063644451341145494649182395412689744530581492654164321720600128173828125\n",
            "i like apple,banana,mango,per.\n",
            "i like 125.\n",
            "<class 'set'>\n",
            "set of Numbers:{1, 2, 3, 4, 5, 6, 7, 8, 9, 10}\n",
            "i like  apple,banana,mango,per\n",
            "number id 3\n",
            "product is 125 3 5\n",
            "3is5\n",
            "11\n"
          ]
        }
      ]
    },
    {
      "cell_type": "code",
      "source": [
        "# Expression\n",
        "a = int(input(\"Enter a number a:\"))\n",
        "b = int(input(\"Enter a number b:\"))\n",
        "c = int(input(\"Enter a number c:\"))\n",
        "Z = a + b - (a * c)\n",
        "print(f\"The answer of the arithmetic operation is {Z}\")"
      ],
      "metadata": {
        "colab": {
          "base_uri": "https://localhost:8080/"
        },
        "id": "43HtIiJPDgD4",
        "outputId": "73d3e520-29d8-4b05-c274-59e8f1222f9a"
      },
      "execution_count": null,
      "outputs": [
        {
          "output_type": "stream",
          "name": "stdout",
          "text": [
            "Enter a number a:6\n",
            "Enter a number b:7\n",
            "Enter a number c:8\n",
            "The answer of the arithmetic operation is -35\n"
          ]
        }
      ]
    },
    {
      "cell_type": "code",
      "source": [
        "age = int(input(\"Enter your age :\"))\n",
        "if age < 18:\n",
        "  print(\"Not elegible for voting . \")\n",
        "else:\n",
        "  print(\"Elegible for voting.\")"
      ],
      "metadata": {
        "colab": {
          "base_uri": "https://localhost:8080/"
        },
        "id": "SjD1i8KpLQM8",
        "outputId": "3b5e6eac-2705-4560-a77d-bcdbb3975a51"
      },
      "execution_count": null,
      "outputs": [
        {
          "output_type": "stream",
          "name": "stdout",
          "text": [
            "Enter your age :12\n",
            "Not elegible for voting . \n"
          ]
        }
      ]
    }
  ]
}